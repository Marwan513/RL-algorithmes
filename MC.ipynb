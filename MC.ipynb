{
 "cells": [
  {
   "cell_type": "code",
   "execution_count": 77,
   "metadata": {},
   "outputs": [],
   "source": [
    "import sys\n",
    "import gymnasium as gym\n",
    "import numpy as np\n",
    "from collections import defaultdict\n",
    "import time # to get the time\n",
    "\n",
    "env = gym.make('MountainCar-v0',render_mode=\"rgb_array\")"
   ]
  },
  {
   "cell_type": "code",
   "execution_count": 78,
   "metadata": {},
   "outputs": [
    {
     "data": {
      "text/plain": [
       "(100, 100, 3)"
      ]
     },
     "execution_count": 78,
     "metadata": {},
     "output_type": "execute_result"
    }
   ],
   "source": [
    "num_episodes = 60000\n",
    "alpha = 0.15\n",
    "epsilon = 0.15\n",
    "nA = env.action_space.n\n",
    "np.random.seed(3)\n",
    "Observation = [100,100]\n",
    "Q = np.random.uniform(low=0, high=1, size=(Observation + [nA]))\n",
    "Q.shape"
   ]
  },
  {
   "cell_type": "code",
   "execution_count": 79,
   "metadata": {},
   "outputs": [],
   "source": [
    "def epsilon_greedy(Q, state, nA, epsilon):\n",
    "    if np.random.random() > epsilon:\n",
    "        return np.argmax(Q[state])\n",
    "    else:\n",
    "        return np.random.choice(nA)"
   ]
  },
  {
   "cell_type": "code",
   "execution_count": 80,
   "metadata": {},
   "outputs": [],
   "source": [
    "def get_discrete_state(state, n_bins=(100, 100)):\n",
    "    \"\"\"\n",
    "    Convert the continuous state values to discrete values.\n",
    "\n",
    "    Parameters:\n",
    "        state (np.ndarray): The current state of the environment.\n",
    "        n_bins (tuple): The number of bins to use for each state variable.\n",
    "\n",
    "    Returns:\n",
    "        tuple: The discrete state representation.\n",
    "    \"\"\"\n",
    "    # Define the bounds for each state variable\n",
    "    bounds = [\n",
    "        [-1.2, 0.5],  # cart position\n",
    "        [-0.07, 0.07],  # cart velocity\n",
    "    ]\n",
    "    \n",
    "    # Calculate the bin width for each state variable\n",
    "    bin_widths = [(bounds[i][1] - bounds[i][0]) / n_bins[i] for i in range(len(bounds))]\n",
    "    # Convert each state variable to a discrete value\n",
    "    discrete_state = tuple(int((state[i] - bounds[i][0]) / bin_widths[i]) for i in range(len(bounds)))\n",
    "    \n",
    "    # Make sure the discrete state is within the bounds of the Q-table\n",
    "    for i in range(len(bounds)):\n",
    "        if discrete_state[i] < 0:\n",
    "            discrete_state = list(discrete_state)\n",
    "            discrete_state[i] = 0\n",
    "            discrete_state = tuple(discrete_state)\n",
    "        elif discrete_state[i] >= n_bins[i]:\n",
    "            discrete_state = list(discrete_state)\n",
    "            discrete_state[i] = n_bins[i] - 1\n",
    "            discrete_state = tuple(discrete_state)\n",
    "    \n",
    "    return discrete_state"
   ]
  },
  {
   "cell_type": "code",
   "execution_count": 81,
   "metadata": {},
   "outputs": [
    {
     "name": "stdout",
     "output_type": "stream",
     "text": [
      "Episode 60000/60000."
     ]
    }
   ],
   "source": [
    "# MC algorithm\n",
    "total_reward = 0\n",
    "total_time = 0\n",
    "max_time = 0\n",
    "min_time = 1e+20\n",
    "\n",
    "# loop over episodes\n",
    "for i_episode in range(1, num_episodes+1):\n",
    "    episode_reward = 0\n",
    "\n",
    "    # total = 0\n",
    "    # episode = []\n",
    "\n",
    "    t0 = time.time() #set the initial time\n",
    "    state = env.reset(seed=32)[0]\n",
    "    d_state = get_discrete_state(state)\n",
    "    action = epsilon_greedy(Q, d_state, nA, epsilon)\n",
    "    terminated, truncated = False,False\n",
    "    n = 1\n",
    "    while not (terminated or truncated):\n",
    "        next_state, reward, terminated, truncated, info = env.step(action)\n",
    "        if abs(state[1]) >= abs(next_state[1]):\n",
    "            reward = -10\n",
    "        if next_state[0] >= 0.5:\n",
    "            reward = 50\n",
    "        next_state = get_discrete_state(next_state)\n",
    "        next_action = epsilon_greedy(Q, next_state, nA, epsilon)\n",
    "        episode_reward += reward\n",
    "        Q[d_state][action] += (1/n)*(episode_reward-Q[d_state][action])\n",
    "        d_state = next_state\n",
    "        action = next_action\n",
    "        n += 1\n",
    "\n",
    "    t1 = time.time() #episode has finished\n",
    "    \n",
    "    episode_time = t1 - t0 #episode total time\n",
    "    if episode_time > max_time:\n",
    "        max_time = episode_time\n",
    "    if episode_time < min_time:\n",
    "        min_time = episode_time\n",
    "    total_time += episode_time\n",
    "    total_reward += episode_reward #episode total reward\n",
    "    # monitor progress\n",
    "    if i_episode % 10 == 0:\n",
    "        print(f\"\\rEpisode {i_episode}/{num_episodes}.\", end=\"\")\n",
    "        sys.stdout.flush()\n"
   ]
  },
  {
   "cell_type": "code",
   "execution_count": 82,
   "metadata": {},
   "outputs": [
    {
     "name": "stdout",
     "output_type": "stream",
     "text": [
      "Mean Reward: -184.07355\n",
      "Time Average: 0.014679027791817983\n",
      "Biggist ep time: 0.09396934509277344\n",
      "smallest ep time: 0.00798487663269043\n"
     ]
    }
   ],
   "source": [
    "mean_reward = total_reward / num_episodes\n",
    "mean_time = total_time / num_episodes\n",
    "\n",
    "print(\"Mean Reward: \" + str(mean_reward))\n",
    "print(\"Time Average: \" + str(mean_time))\n",
    "print(\"Biggist ep time: \" + str(max_time))\n",
    "print(\"smallest ep time: \" + str(min_time))"
   ]
  },
  {
   "cell_type": "code",
   "execution_count": 83,
   "metadata": {},
   "outputs": [],
   "source": [
    "env = gym.make('MountainCar-v0',render_mode=\"rgb_array_list\")"
   ]
  },
  {
   "cell_type": "code",
   "execution_count": 91,
   "metadata": {},
   "outputs": [
    {
     "name": "stdout",
     "output_type": "stream",
     "text": [
      "number of action: 194\n",
      "Moviepy - Building video c:\\Users\\marwa\\Desktop\\task3\\videos/rl-video-episode-0.mp4.\n",
      "Moviepy - Writing video c:\\Users\\marwa\\Desktop\\task3\\videos/rl-video-episode-0.mp4\n",
      "\n"
     ]
    },
    {
     "name": "stderr",
     "output_type": "stream",
     "text": [
      "                                                               \r"
     ]
    },
    {
     "name": "stdout",
     "output_type": "stream",
     "text": [
      "Moviepy - Done !\n",
      "Moviepy - video ready c:\\Users\\marwa\\Desktop\\task3\\videos/rl-video-episode-0.mp4\n"
     ]
    }
   ],
   "source": [
    "from gym.utils.save_video import save_video\n",
    "# Evaluate learned policy\n",
    "state = env.reset(seed=32)\n",
    "state = state[0]\n",
    "state = get_discrete_state(state)\n",
    "terminated, truncated = False,False\n",
    "counter = 0\n",
    "while not (terminated or truncated):\n",
    "    action = np.argmax(Q[state])\n",
    "    next_state, reward, terminated, truncated, info = env.step(action)\n",
    "    next_state = get_discrete_state(next_state)\n",
    "    state = next_state\n",
    "    counter += 1\n",
    "    \n",
    "\n",
    "print(\"number of action: \" + str(counter))\n",
    "\n",
    "save_video(\n",
    "  env.render(),\n",
    "  \"videos\",\n",
    "  fps=35,\n",
    "  episode_index=0\n",
    ")"
   ]
  }
 ],
 "metadata": {
  "kernelspec": {
   "display_name": "Python 3",
   "language": "python",
   "name": "python3"
  },
  "language_info": {
   "codemirror_mode": {
    "name": "ipython",
    "version": 3
   },
   "file_extension": ".py",
   "mimetype": "text/x-python",
   "name": "python",
   "nbconvert_exporter": "python",
   "pygments_lexer": "ipython3",
   "version": "3.11.0"
  },
  "orig_nbformat": 4
 },
 "nbformat": 4,
 "nbformat_minor": 2
}
